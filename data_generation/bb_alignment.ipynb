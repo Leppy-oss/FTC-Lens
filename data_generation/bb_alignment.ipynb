{
 "cells": [
  {
   "cell_type": "markdown",
   "id": "c6430c0d",
   "metadata": {},
   "source": [
    "# Bounding Box Alignment\n",
    "Stage 2/3 synthetic data generation notebook"
   ]
  },
  {
   "cell_type": "code",
   "execution_count": 221,
   "id": "28133cb4",
   "metadata": {},
   "outputs": [],
   "source": [
    "import os\n",
    "import json\n",
    "import shutil\n",
    "import timeit\n",
    "import trimesh\n",
    "import pyrender\n",
    "import numpy as np\n",
    "from PIL import Image\n",
    "from random import sample\n",
    "import matplotlib.pyplot as plt"
   ]
  },
  {
   "cell_type": "code",
   "execution_count": 276,
   "id": "420715ea",
   "metadata": {},
   "outputs": [],
   "source": [
    "def load_step_part(filepath):\n",
    "    mesh = trimesh.load_mesh(filepath)\n",
    "    mesh.apply_translation(-mesh.centroid)\n",
    "    mesh.apply_scale(1000)\n",
    "    return mesh"
   ]
  },
  {
   "cell_type": "code",
   "execution_count": 277,
   "id": "3b779294",
   "metadata": {},
   "outputs": [],
   "source": [
    "MODEL_DIR = \"models/\"\n",
    "IMG_SIZE = 512\n",
    "\n",
    "step_files = [f for f in os.listdir(MODEL_DIR) if f.lower().endswith(\".step\")]\n",
    "r = pyrender.OffscreenRenderer(viewport_width=IMG_SIZE, viewport_height=IMG_SIZE)"
   ]
  },
  {
   "cell_type": "code",
   "execution_count": 324,
   "id": "f4d1a37a",
   "metadata": {},
   "outputs": [
    {
     "name": "stdout",
     "output_type": "stream",
     "text": [
      "['IntakeWheel.STEP', 'CounterborePatternSpacer6.STEP', 'UChannel7H.STEP', 'Side2Post1PillowBlock4ID.STEP', 'Side1Post2ClampingMount32ID.STEP', 'SquareBeam5H.STEP', 'HubMountAcetalSprocket38T.STEP', 'LBeam29H.STEP', 'HubMountControlArm24.STEP', 'Shaft12ROD144.STEP', 'Shaft12ROD48.STEP', 'OpenGoRAIL192.STEP', 'ThreadedLBracket5H.STEP', 'FlatBeam5H.STEP', 'Pulley3P6DID18T.STEP']\n",
      "[<trimesh.Trimesh(vertices.shape=(23444, 3), faces.shape=(21684, 3))>, <trimesh.Trimesh(vertices.shape=(23178, 3), faces.shape=(25616, 3))>, <trimesh.Trimesh(vertices.shape=(57954, 3), faces.shape=(57052, 3))>, <trimesh.Trimesh(vertices.shape=(26374, 3), faces.shape=(32586, 3))>, <trimesh.Trimesh(vertices.shape=(41528, 3), faces.shape=(61368, 3))>, <trimesh.Trimesh(vertices.shape=(12070, 3), faces.shape=(12882, 3))>, <trimesh.Trimesh(vertices.shape=(8676, 3), faces.shape=(7976, 3))>, <trimesh.Trimesh(vertices.shape=(10940, 3), faces.shape=(10924, 3))>, <trimesh.Trimesh(vertices.shape=(2532, 3), faces.shape=(2516, 3))>, <trimesh.Trimesh(vertices.shape=(107437, 3), faces.shape=(198778, 3))>, <trimesh.Trimesh(vertices.shape=(107429, 3), faces.shape=(198762, 3))>, <trimesh.Trimesh(vertices.shape=(372854, 3), faces.shape=(680712, 3))>, <trimesh.Trimesh(vertices.shape=(18166, 3), faces.shape=(19528, 3))>, <trimesh.Trimesh(vertices.shape=(1212, 3), faces.shape=(1200, 3))>, <trimesh.Trimesh(vertices.shape=(18343, 3), faces.shape=(22948, 3))>]\n"
     ]
    }
   ],
   "source": [
    "steps = sample(step_files, 15)\n",
    "print(steps)\n",
    "\n",
    "meshes = [load_step_part(os.path.join(MODEL_DIR, step)) for step in steps]\n",
    "print(meshes)"
   ]
  },
  {
   "cell_type": "code",
   "execution_count": 412,
   "id": "dd30bbb6",
   "metadata": {},
   "outputs": [],
   "source": [
    "def random_grayscale_color(min_val=0.2, max_val=0.8, tint_strength=0.0):\n",
    "    base = np.random.uniform(min_val, max_val)\n",
    "    r = np.clip(base + np.random.uniform(-tint_strength, tint_strength), 0, 1)\n",
    "    g = np.clip(base + np.random.uniform(-tint_strength, tint_strength), 0, 1)\n",
    "    b = np.clip(base + np.random.uniform(-tint_strength, tint_strength), 0, 1)\n",
    "    return np.array([r, g, b])\n",
    "\n",
    "# Inverse of gluLookAt\n",
    "def look_at(v_e, v_t=np.array((0, 0, 0)), up=np.array((0, 1, 0))):\n",
    "    forward = v_t - v_e\n",
    "    forward /= np.linalg.norm(forward)\n",
    "    up = np.array([1, 0, 0]) if abs(np.dot(forward, up)) > 0.999 else up\n",
    "\n",
    "    right = np.cross(forward, up)\n",
    "    right /= np.linalg.norm(right)\n",
    "\n",
    "    up = np.cross(right, forward)\n",
    "\n",
    "    rot = np.eye(4)\n",
    "    rot[:3, 0] = right\n",
    "    rot[:3, 1] = up\n",
    "    rot[:3, 2] = -forward\n",
    "\n",
    "    trans = np.eye(4)\n",
    "    trans[:3, 3] = v_e\n",
    "\n",
    "    pose = trans @ rot\n",
    "    return pose"
   ]
  },
  {
   "cell_type": "code",
   "execution_count": 413,
   "id": "2464c662",
   "metadata": {},
   "outputs": [
    {
     "data": {
      "text/plain": [
       "array([[0., 1., 0., 0.],\n",
       "       [0., 0., 1., 1.],\n",
       "       [1., 0., 0., 0.],\n",
       "       [0., 0., 0., 1.]])"
      ]
     },
     "execution_count": 413,
     "metadata": {},
     "output_type": "execute_result"
    }
   ],
   "source": [
    "look_at(np.array([0, 1, 0], dtype=np.dtypes.Float64DType))"
   ]
  },
  {
   "cell_type": "code",
   "execution_count": 251,
   "id": "7770f4ba",
   "metadata": {},
   "outputs": [],
   "source": [
    "def path_to_mesh(path):\n",
    "    lines = []\n",
    "    for entity in path.entities:\n",
    "        segment = entity.discrete(path.vertices)\n",
    "        for i in range(len(segment) - 1):\n",
    "            lines.append(segment[i])\n",
    "            lines.append(segment[i + 1])\n",
    "\n",
    "    lines_np = np.array(lines, dtype=np.float32)\n",
    "\n",
    "    line_mesh = pyrender.Primitive(\n",
    "        positions=lines_np,\n",
    "        mode=1,\n",
    "        material=pyrender.MetallicRoughnessMaterial(baseColorFactor=(0, 0, 0)),\n",
    "    )\n",
    "    return pyrender.Mesh([line_mesh])"
   ]
  },
  {
   "cell_type": "code",
   "execution_count": 325,
   "id": "e2278d8a",
   "metadata": {},
   "outputs": [
    {
     "name": "stdout",
     "output_type": "stream",
     "text": [
      "[[-15.97038668  -2.70068506 -15.97498847]\n",
      " [ 15.97039763   3.29931499  15.97501221]]\n"
     ]
    },
    {
     "data": {
      "image/png": "[encoded data removed]",
      "text/plain": [
       "<Figure size 800x600 with 1 Axes>"
      ]
     },
     "metadata": {},
     "output_type": "display_data"
    }
   ],
   "source": [
    "m = meshes[1].copy()\n",
    "print(m.bounds)\n",
    "m.merge_vertices()\n",
    "edges = m.face_adjacency_angles >= np.radians(90)\n",
    "right_angles = trimesh.load_path(m.vertices[m.face_adjacency_edges[edges]])\n",
    "\n",
    "scene = pyrender.Scene(\n",
    "    bg_color=np.append(random_grayscale_color(0.9, 0.975), 1.0),\n",
    "    ambient_light=[0.3, 0.3, 0.3, 1.0],\n",
    ")\n",
    "cam_pose = look_at(np.array([100.0, 100.0, 100.0]))\n",
    "\n",
    "scene = pyrender.Scene(\n",
    "    bg_color=np.append(random_grayscale_color(0.9, 0.975), 1.0),\n",
    "    ambient_light=[0.3, 0.3, 0.3, 1.0]\n",
    ")\n",
    "\n",
    "camera = pyrender.PerspectiveCamera(yfov=np.pi / 3.0)\n",
    "\n",
    "scene.add(camera, pose=cam_pose)\n",
    "\n",
    "light = pyrender.DirectionalLight(color=np.ones(3), intensity=3.0)\n",
    "scene.add(light, pose=cam_pose)\n",
    "scene.add(pyrender.Mesh.from_trimesh(meshes[1],\n",
    "    material=pyrender.MetallicRoughnessMaterial(\n",
    "        baseColorFactor=np.append(random_grayscale_color(0.35, 0.45), 1.0),\n",
    "        metallicFactor=0.8,\n",
    "        roughnessFactor=0.8,\n",
    "    )\n",
    "))\n",
    "scene.add(path_to_mesh(right_angles))\n",
    "color, _ = r.render(scene)\n",
    "\n",
    "plt.figure(figsize=(8, 6))\n",
    "plt.axis(\"off\")\n",
    "plt.imshow(color)\n",
    "plt.show()\n",
    "# trimesh.Scene([m, right_angles]).show()"
   ]
  },
  {
   "cell_type": "code",
   "execution_count": null,
   "id": "e8035289",
   "metadata": {},
   "outputs": [
    {
     "name": "stderr",
     "output_type": "stream",
     "text": [
      "C:\\Users\\ryan\\AppData\\Local\\Temp\\ipykernel_24036\\3057696261.py:227: UserWarning: Gimbal lock detected. Setting third angle to zero since it is not possible to uniquely determine all angles.\n",
      "  assembled_scene, poses, origin_index = assemble(meshes)\n",
      "C:\\Users\\ryan\\AppData\\Local\\Temp\\ipykernel_24036\\3057696261.py:156: DeprecationWarning: `Scene.dump(concatenate=True)` DEPRECATED FOR REMOVAL APRIL 2025: replace with `Scene.to_geometry()`\n",
      "  full_mesh = trimesh.Scene(meshes_transformed).dump(concatenate=True)\n"
     ]
    },
    {
     "data": {
      "image/png": "[encoded data removed]",
      "text/plain": [
       "<Figure size 800x600 with 1 Axes>"
      ]
     },
     "metadata": {},
     "output_type": "display_data"
    }
   ],
   "source": [
    "import random\n",
    "import trimesh\n",
    "import pyrender\n",
    "import numpy as np\n",
    "import matplotlib.pyplot as plt\n",
    "from scipy.spatial.transform import Rotation as R\n",
    "\n",
    "\n",
    "def intersects(bounds1, bounds2):\n",
    "    return np.all(bounds1[0] < bounds2[1]) and np.all(bounds1[1] > bounds2[0])\n",
    "\n",
    "\n",
    "def rand_face_transform(target_mesh, source_mesh):\n",
    "    target_box = target_mesh.bounding_box_oriented\n",
    "    source_box = source_mesh.bounding_box_oriented\n",
    "\n",
    "    target_face = random.randint(0, 5)\n",
    "    source_face = random.randint(0, 5)\n",
    "\n",
    "    target_min, target_max = target_box.bounds\n",
    "    source_min, source_max = source_box.bounds\n",
    "\n",
    "    def get_face_vector(idx, min_, max_):\n",
    "        axis = idx % 3\n",
    "        direction = -1 if idx < 3 else 1\n",
    "        face_center = np.array(\n",
    "            [\n",
    "                (\n",
    "                    min_[i]\n",
    "                    if direction == -1 and i == axis\n",
    "                    else (\n",
    "                        max_[i]\n",
    "                        if direction == 1 and i == axis\n",
    "                        else (min_[i] + max_[i]) / 2\n",
    "                    )\n",
    "                )\n",
    "                for i in range(3)\n",
    "            ]\n",
    "        )\n",
    "        normal = np.eye(3)[axis] * direction\n",
    "        return face_center, normal\n",
    "\n",
    "    t_face_center, t_normal = get_face_vector(target_face, target_min, target_max)\n",
    "    s_face_center, s_normal = get_face_vector(source_face, source_min, source_max)\n",
    "\n",
    "    v1 = s_normal / np.linalg.norm(s_normal)\n",
    "    v2 = -t_normal / np.linalg.norm(t_normal)\n",
    "\n",
    "    axis = np.cross(v1, v2)\n",
    "    angle = np.arccos(np.clip(np.dot(v1, v2), -1, 1))\n",
    "    if np.linalg.norm(axis) < 1e-6:\n",
    "        R_mat = np.eye(3)\n",
    "    else:\n",
    "        axis = axis / np.linalg.norm(axis)\n",
    "        R_mat = trimesh.transformations.rotation_matrix(angle, axis)[:3, :3]\n",
    "\n",
    "    s_transformed_face = R_mat @ s_face_center\n",
    "    translation = t_face_center - s_transformed_face\n",
    "\n",
    "    rotation_euler = R.from_matrix(R_mat).as_euler(\"xyz\", degrees=True)\n",
    "\n",
    "    return translation, rotation_euler\n",
    "\n",
    "\n",
    "def center_assembly(meshes):\n",
    "    all_bounds = np.vstack([m.bounds for m in meshes])\n",
    "    overall_centroid = (np.min(all_bounds, axis=0) + np.max(all_bounds, axis=0)) / 2\n",
    "\n",
    "    mesh_centers = np.array([m.bounding_box.centroid for m in meshes])\n",
    "    distances = np.linalg.norm(mesh_centers - overall_centroid, axis=1)\n",
    "    reference_idx = np.argmin(distances)\n",
    "    reference_center = mesh_centers[reference_idx]\n",
    "\n",
    "    offset = reference_center\n",
    "    for m in meshes:\n",
    "        m.apply_translation(-offset)\n",
    "\n",
    "    return meshes, reference_idx\n",
    "\n",
    "\n",
    "def assemble(mesh_list, max_attempts=100):\n",
    "    placed = []\n",
    "    poses = []\n",
    "\n",
    "    mesh0 = mesh_list[0].copy()\n",
    "    placed.append(mesh0)\n",
    "    meshes_transformed = [mesh0]\n",
    "    poses.append((np.zeros(3), np.zeros(3)))\n",
    "\n",
    "    for mesh in mesh_list[1:]:\n",
    "        added = False\n",
    "        attempts = 0\n",
    "\n",
    "        while not added and attempts < max_attempts:\n",
    "            target = random.choice(placed)\n",
    "            position, rotation_euler = rand_face_transform(target, mesh)\n",
    "\n",
    "            T = np.eye(4)\n",
    "            T[:3, :3] = R.from_euler(\"xyz\", rotation_euler, degrees=True).as_matrix()\n",
    "            T[:3, 3] = position\n",
    "\n",
    "            mesh_transformed = mesh.copy()\n",
    "            mesh_transformed.apply_transform(T)\n",
    "\n",
    "            if not any(intersects(mesh_transformed.bounds, p.bounds) for p in placed):\n",
    "                placed.append(mesh_transformed)\n",
    "                meshes_transformed.append(mesh_transformed)\n",
    "                poses.append((position, rotation_euler))\n",
    "                added = True\n",
    "            attempts += 1\n",
    "\n",
    "    all_bounds = np.vstack([m.bounds for m in meshes_transformed])\n",
    "    overall_centroid = (np.min(all_bounds, axis=0) + np.max(all_bounds, axis=0)) / 2\n",
    "\n",
    "    mesh_centers = np.array([m.bounding_box.centroid for m in meshes_transformed])\n",
    "    distances = np.linalg.norm(mesh_centers - overall_centroid, axis=1)\n",
    "    reference_idx = np.argmin(distances)\n",
    "    reference_center = mesh_centers[reference_idx]\n",
    "\n",
    "    offset = reference_center\n",
    "\n",
    "    for i, m in enumerate(meshes_transformed):\n",
    "        m.apply_translation(-offset)\n",
    "\n",
    "        pos, rot = poses[i]\n",
    "        new_pos = pos - offset\n",
    "        poses[i] = (new_pos, rot)\n",
    "\n",
    "    return meshes_transformed, poses, reference_idx\n",
    "\n",
    "\n",
    "def path_to_mesh(path):\n",
    "    lines = []\n",
    "    for entity in path.entities:\n",
    "        segment = entity.discrete(path.vertices)\n",
    "        for i in range(len(segment) - 1):\n",
    "            lines.append(segment[i])\n",
    "            lines.append(segment[i + 1])\n",
    "\n",
    "    lines_np = np.array(lines, dtype=np.float32)\n",
    "\n",
    "    line_mesh = pyrender.Primitive(\n",
    "        positions=lines_np,\n",
    "        mode=1,\n",
    "        material=pyrender.MetallicRoughnessMaterial(\n",
    "            baseColorFactor=(0, 0, 0),\n",
    "            metallicFactor=0.8,\n",
    "            roughnessFactor=0.8,\n",
    "        ),\n",
    "    )\n",
    "    return pyrender.Mesh([line_mesh])\n",
    "\n",
    "\n",
    "def render_scene(meshes_transformed: list[trimesh.Trimesh]):\n",
    "    full_mesh = trimesh.Scene(meshes_transformed).dump(concatenate=True)\n",
    "    bounds = full_mesh.bounds\n",
    "    size = np.linalg.norm(bounds[1] - bounds[0])\n",
    "\n",
    "    direction = np.array([1, 1, 1])\n",
    "    direction = direction / np.linalg.norm(direction)\n",
    "\n",
    "    camera_distance = size * 1.25  # adjust zoom level\n",
    "    cam_position = direction * camera_distance\n",
    "    cam_pose = look_at(cam_position)\n",
    "\n",
    "    scene = pyrender.Scene(\n",
    "        bg_color=np.append(random_grayscale_color(0.9, 0.975), 1.0),\n",
    "        ambient_light=[0.3, 0.3, 0.3, 1.0],\n",
    "    )\n",
    "    for mesh in meshes_transformed:\n",
    "        m = mesh.copy()\n",
    "        m.merge_vertices()\n",
    "        material = pyrender.MetallicRoughnessMaterial(\n",
    "            baseColorFactor=np.append(random_grayscale_color(0.35, 0.45), 1.0),\n",
    "            metallicFactor=0.8,\n",
    "            roughnessFactor=0.8,\n",
    "        )\n",
    "        pymesh = pyrender.Mesh.from_trimesh(mesh, material=material, smooth=False)\n",
    "        scene.add(pymesh)\n",
    "        scene.add(\n",
    "            path_to_mesh(\n",
    "                trimesh.load_path(\n",
    "                    m.vertices[\n",
    "                        m.face_adjacency_edges[\n",
    "                            m.face_adjacency_angles >= np.radians(90 - max(0, min((200000 - len(m.vertices)) * 0.0005, 80)))\n",
    "                        ]\n",
    "                    ]\n",
    "                )\n",
    "            )\n",
    "        )\n",
    "\n",
    "    camera = pyrender.PerspectiveCamera(yfov=np.pi / 3.0)\n",
    "    # camera = pyrender.OrthographicCamera(xmag=size, ymag=size)  # Optional for isometric flatness\n",
    "\n",
    "    scene.add(camera, pose=cam_pose)\n",
    "\n",
    "    # light at the camera position\n",
    "    light = pyrender.DirectionalLight(color=np.ones(3), intensity=3.0)\n",
    "    scene.add(light, pose=cam_pose)\n",
    "\n",
    "    color, _ = r.render(scene)\n",
    "\n",
    "    plt.figure(figsize=(8, 6))\n",
    "    plt.axis(\"off\")\n",
    "    plt.imshow(color)\n",
    "    plt.show()\n",
    "\n",
    "\n",
    "def export_transforms(poses, origin_index, mesh_names):\n",
    "    data = {\n",
    "        \"origin_name\": mesh_names[origin_index],\n",
    "        \"transforms\": [],\n",
    "    }\n",
    "\n",
    "    for i, (pos, rot) in enumerate(poses):\n",
    "        entry = {\n",
    "            \"name\": mesh_names[i],\n",
    "            \"Position\": pos,\n",
    "            \"Rotation\": rot,\n",
    "        }\n",
    "        data[\"transforms\"].append(entry)\n",
    "\n",
    "    return data\n",
    "\n",
    "\n",
    "assembled_scene, poses, origin_index = assemble(meshes)\n",
    "render_scene(assembled_scene)\n",
    "transforms = export_transforms(poses, origin_index, steps)"
   ]
  },
  {
   "cell_type": "code",
   "execution_count": 420,
   "id": "b49062f6",
   "metadata": {},
   "outputs": [
    {
     "data": {
      "image/png": "[encoded data removed]",
      "text/plain": [
       "<Figure size 800x600 with 1 Axes>"
      ]
     },
     "metadata": {},
     "output_type": "display_data"
    }
   ],
   "source": [
    "from itertools import product\n",
    "\n",
    "scene = pyrender.Scene(\n",
    "    bg_color=np.append(random_grayscale_color(0.9, 0.975), 1.0),\n",
    "    ambient_light=[0.3, 0.3, 0.3, 1.0],\n",
    ")\n",
    "\n",
    "cam_isod = 350\n",
    "\n",
    "cam_pose = look_at(np.array([cam_isod, cam_isod, cam_isod], dtype=np.dtypes.Float64DType))\n",
    "scene.add(pyrender.PerspectiveCamera(yfov=np.pi / 3.0), pose=cam_pose)\n",
    "\n",
    "for xm, ym, zm in np.array(list(product((-1, 1), repeat=3))):\n",
    "    light_pose = look_at(np.array([cam_isod * xm, cam_isod * ym, cam_isod * zm], dtype=np.dtypes.Float64DType))\n",
    "    light = pyrender.DirectionalLight(intensity=2.5)\n",
    "    scene.add(light, pose=light_pose)\n",
    "\n",
    "for t in transforms[\"transforms\"]:\n",
    "    i = steps.index(t[\"name\"])\n",
    "    m = meshes[i].copy()\n",
    "\n",
    "    T = np.eye(4)\n",
    "    T[:3, :3] = R.from_euler(\"xyz\", t[\"Rotation\"], degrees=True).as_matrix()\n",
    "    T[:3, 3] = t[\"Position\"]\n",
    "\n",
    "    m.apply_transform(T)\n",
    "    scene.add(pyrender.Mesh.from_trimesh(m))\n",
    "\n",
    "color, _ = r.render(scene)\n",
    "\n",
    "plt.figure(figsize=(8, 6))\n",
    "plt.axis(\"off\")\n",
    "plt.imshow(color)\n",
    "plt.show()"
   ]
  },
  {
   "cell_type": "code",
   "execution_count": 421,
   "id": "756f07c9",
   "metadata": {},
   "outputs": [
    {
     "data": {
      "text/plain": [
       "'{\"image\": \"blablabla.jpg\", \"origin_name\": \"CounterborePatternSpacer6.STEP\", \"transforms\": [{\"name\": \"CounterborePatternSpacer6.STEP\", \"Position\": [1.186939505259943e-05, -0.2993149665919867, -5.47637776508042e-06], \"Rotation\": [0.0, -90.0, 0.0]}, {\"name\": \"FlatBeam5H.STEP\", \"Position\": [-79.66791699267927, 126.6904820973399, 1.9604344869694756e-08], \"Rotation\": [0.0, 0.0, -90.0]}, {\"name\": \"HubMountAcetalSprocket38T.STEP\", \"Position\": [19.974923316591727, 71.47323251059153, 4.996003610813204e-16], \"Rotation\": [0.0, 0.0, -90.0]}, {\"name\": \"HubMountControlArm24.STEP\", \"Position\": [-133.59932752356605, 3.618951655275787e-15, 38.4618535400242], \"Rotation\": [0.0, 0.0, 0.0]}, {\"name\": \"IntakeWheel.STEP\", \"Position\": [-79.6679071560465, -2.4360032710935384e-05, -0.0571205961876306], \"Rotation\": [0.0, 0.0, 0.0]}, {\"name\": \"LBeam29H.STEP\", \"Position\": [18.10875990920144, 1.8301568622776306e-07, -25.218119281608622], \"Rotation\": [0.0, 0.0, 0.0]}, {\"name\": \"OpenGoRAIL192.STEP\", \"Position\": [82.46105916561864, 71.47390397377471, -1.457465220386367e-07], \"Rotation\": [-0.0, 90.0, 0.0]}, {\"name\": \"Pulley3P6DID18T.STEP\", \"Position\": [19.97459253416133, 129.1309487711556, -82.02203384410444], \"Rotation\": [0.0, 0.0, 0.0]}, {\"name\": \"Shaft12ROD144.STEP\", \"Position\": [19.975362315856913, 129.39038607139028, 0.00027816214324626054], \"Rotation\": [-90.0, 0.0, 0.0]}, {\"name\": \"Shaft12ROD48.STEP\", \"Position\": [-61.72467250554015, 85.19025871174118, 0.0010168264536267874], \"Rotation\": [0.0, -90.0, 0.0]}, {\"name\": \"Side1Post2ClampingMount32ID.STEP\", \"Position\": [19.975046012655596, -2.1460123394078963, -2.116818663329444], \"Rotation\": [-0.0, 90.0, 0.0]}, {\"name\": \"Side2Post1PillowBlock4ID.STEP\", \"Position\": [-79.65411671788831, 85.19518066714471, 0.3553740431604618], \"Rotation\": [90.0, 0.0, 0.0]}, {\"name\": \"SquareBeam5H.STEP\", \"Position\": [19.97430098609169, -25.499236805512492, -2.190129514821615e-06], \"Rotation\": [-90.0, 0.0, 0.0]}, {\"name\": \"ThreadedLBracket5H.STEP\", \"Position\": [101.75759838475834, 69.79182416960603, -0.0004485220444653826], \"Rotation\": [0.0, 0.0, 90.0]}, {\"name\": \"UChannel7H.STEP\", \"Position\": [-86.11583817320295, -8.267350886141737e-08, 35.99999559637992], \"Rotation\": [0.0, -90.0, 0.0]}]}'"
      ]
     },
     "execution_count": 421,
     "metadata": {},
     "output_type": "execute_result"
    }
   ],
   "source": [
    "import json\n",
    "\n",
    "def convert_and_sort(data):\n",
    "    def convert(obj):\n",
    "        if isinstance(obj, np.ndarray):\n",
    "            return obj.tolist()\n",
    "        elif isinstance(obj, dict):\n",
    "            return {k: convert(v) for k, v in obj.items()}\n",
    "        elif isinstance(obj, list):\n",
    "            return [convert(item) for item in obj]\n",
    "        else:\n",
    "            return obj\n",
    "\n",
    "    converted_data = convert(data)\n",
    "    if \"transforms\" in converted_data:\n",
    "        converted_data[\"transforms\"] = sorted(\n",
    "            converted_data[\"transforms\"], key=lambda x: x[\"name\"]\n",
    "        )\n",
    "\n",
    "    return json.dumps(converted_data)\n",
    "\n",
    "\n",
    "data = {\n",
    "    \"image\": \"blablabla.jpg\",\n",
    "}\n",
    "data.update(transforms)\n",
    "convert_and_sort(data)"
   ]
  },
  {
   "cell_type": "code",
   "execution_count": 404,
   "id": "9b60c181",
   "metadata": {},
   "outputs": [
    {
     "data": {
      "text/plain": [
       "14"
      ]
     },
     "execution_count": 404,
     "metadata": {},
     "output_type": "execute_result"
    }
   ],
   "source": [
    "xyzms = xyzms = [v for v in product((-1, 0, 1), repeat=3) if v != (0, 0, 0) and sum(x != 0 for x in v) in (1, 3)]\n",
    "\n",
    "len(xyzms)"
   ]
  }
 ],
 "metadata": {
  "kernelspec": {
   "display_name": "ftc-lens",
   "language": "python",
   "name": "python3"
  },
  "language_info": {
   "codemirror_mode": {
    "name": "ipython",
    "version": 3
   },
   "file_extension": ".py",
   "mimetype": "text/x-python",
   "name": "python",
   "nbconvert_exporter": "python",
   "pygments_lexer": "ipython3",
   "version": "3.13.5"
  }
 },
 "nbformat": 4,
 "nbformat_minor": 5
}
